{
 "cells": [
  {
   "cell_type": "code",
   "execution_count": 3,
   "metadata": {},
   "outputs": [],
   "source": [
    "import pandas as pd"
   ]
  },
  {
   "cell_type": "code",
   "execution_count": 4,
   "metadata": {},
   "outputs": [
    {
     "name": "stdout",
     "output_type": "stream",
     "text": [
      "                        Role  \\\n",
      "0       Social Media Manager   \n",
      "1     Frontend Web Developer   \n",
      "2    Quality Control Manager   \n",
      "3  Wireless Network Engineer   \n",
      "4         Conference Manager   \n",
      "\n",
      "                                            Features  \n",
      "0  5 to 15 Years Digital Marketing Specialist M.T...  \n",
      "1  2 to 12 Years Web Developer BCA HTML, CSS, Jav...  \n",
      "2  0 to 12 Years Operations Manager PhD Quality c...  \n",
      "3  4 to 11 Years Network Engineer PhD Wireless ne...  \n",
      "4  1 to 12 Years Event Manager MBA Event planning...   \n",
      " (1615940, 2)\n"
     ]
    }
   ],
   "source": [
    "path = 'C:/Users/pc/Desktop/jobs_dataset_with_features.csv'\n",
    "\n",
    "df = pd.read_csv(path)\n",
    "print(df.head(), '\\n', df.shape)"
   ]
  },
  {
   "cell_type": "code",
   "execution_count": null,
   "metadata": {},
   "outputs": [],
   "source": []
  }
 ],
 "metadata": {
  "kernelspec": {
   "display_name": "nlp",
   "language": "python",
   "name": "python3"
  },
  "language_info": {
   "codemirror_mode": {
    "name": "ipython",
    "version": 3
   },
   "file_extension": ".py",
   "mimetype": "text/x-python",
   "name": "python",
   "nbconvert_exporter": "python",
   "pygments_lexer": "ipython3",
   "version": "3.11.9"
  }
 },
 "nbformat": 4,
 "nbformat_minor": 2
}
